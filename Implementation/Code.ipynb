{
  "cells": [
    {
      "cell_type": "markdown",
      "metadata": {
        "id": "OudJsV4y299t"
      },
      "source": [
        "## Classiq's YQuantum 2024 Sparse State-Preparation Challenge\n",
        "\n",
        "Welcome to the Sparse State-Preparation Challenge, presented by Classiq at YQuantum 2024. This challenge is designed for quantum computing enthusiasts of all levels, aiming to enhance your understanding and spur innovation in sparse state-preparation.\n",
        "\n",
        "### Challenge Overview\n",
        "- **Objective**: Develop quantum circuits that efficiently prepare sparse quantum states. These states are characterized by a small number of non-zero amplitudes, reducing quantum resource requirements and enhancing practical execution on near-term quantum hardware.\n",
        "\n",
        "### Background\n",
        "- **Importance of State Preparation**: State preparation is a crucial first step for many quantum algorithms. It involves setting a quantum state to represent a specific vector of probabilities or functions. The challenge focuses on sparse states, which are pivotal in applications like quantum linear algebra and quantum machine learning.\n",
        "\n",
        "### Problem Statement\n",
        "- **Sparse State-Preparation**: Your task is to create circuits that load a quantum state with probabilities corresponding to a given sparse vector. This challenge highlights the nuances of designing circuits that are both efficient and effective for today's quantum computing limitations.\n",
        "\n",
        "### Resources and Guidance\n",
        "- **Classiq's Tools**: Utilize Classiq’s platform, QMOD language, and SDK, which provide robust tools for designing and testing quantum algorithms. Participants are encouraged to base their implementations on \"An Efficient Algorithm for Sparse Quantum State Preparation\" by Niels Gleinig and Torsten Hoefler.\n",
        "\n",
        "### Goals and Expectations\n",
        "- **Output Goal**: Efficiently prepare a quantum state reflecting specified probabilities, ensuring high fidelity and resource efficiency.\n",
        "- **Example**: For input `{‘00000001’: 0.25, ‘00010001’: 0.5, ‘11001000’: 0.25}`, the output quantum state should correspond to these probabilities.\n"
      ]
    },
    {
      "cell_type": "code",
      "execution_count": 1,
      "metadata": {
        "colab": {
          "base_uri": "https://localhost:8080/"
        },
        "id": "U48A_Scu299y",
        "outputId": "a1330a3c-061a-41fa-ee43-8d6054c74b08"
      },
      "outputs": [
        {
          "output_type": "stream",
          "name": "stdout",
          "text": [
            "Your user code: QMBZ-WZDL\n",
            "If a browser doesn't automatically open, please visit this URL from any trusted device: https://auth.classiq.io/activate?user_code=QMBZ-WZDL\n"
          ]
        }
      ],
      "source": [
        "import classiq\n",
        "classiq.authenticate()"
      ]
    },
    {
      "cell_type": "code",
      "execution_count": 2,
      "metadata": {
        "id": "6eb6Um6u299z"
      },
      "outputs": [],
      "source": [
        "from classiq import *\n",
        "import numpy as np"
      ]
    },
    {
      "cell_type": "markdown",
      "metadata": {
        "id": "Yinuu3nm2990"
      },
      "source": [
        "## Classical Functions\n",
        "This section includes utility functions for classical pre-processing in quantum algorithms:\n",
        "\n",
        "- `dict_to_3d_array(sparse_states)`: Converts a dictionary of sparse states into a 3D array format.\n",
        "- `custom_filter(func, iterable)`: Filters items in an iterable based on a function.\n",
        "- `unequal_sets(t, n)`: Determines the best qubit to split a set `t` into subsets with a significant size difference.\n",
        "- `process_subsets(t, n, dif_qubits, dif_values)`: Processes subsets to determine difference qubits and values.\n",
        "- `toggle_operations(index, n, x_x, ops1, ops2, s)`: Toggles operations based on the index condition.\n",
        "- `conditional_toggle(ops1, ops2, n, dif, b, s)`: Conditionally toggles based on a difference.\n",
        "- `calc_alpha_beta(x_1, x_2)`: Calculates and adjusts alpha and beta values."
      ]
    },
    {
      "cell_type": "code",
      "execution_count": 3,
      "metadata": {
        "id": "eRBYZDvO2990"
      },
      "outputs": [],
      "source": [
        "def dict_to_3d_array(sparse_states):\n",
        "    array_3d = []\n",
        "\n",
        "    for key, value in sparse_states.items():\n",
        "        point = [int(digit) for digit in key]\n",
        "        array_3d.append([point, value])\n",
        "\n",
        "    return array_3d\n",
        "\n",
        "def custom_filter(func, iterable):\n",
        "    return [item for item in iterable if func(item)]\n",
        "\n",
        "def unequal_sets(t, n):\n",
        "\n",
        "    best_qubit = None\n",
        "    T_0=[]\n",
        "    T_1=[]\n",
        "    current_difference = float('-inf')\n",
        "\n",
        "    for b in range(n):\n",
        "        #Filter list based on boolean condition\n",
        "        T_0 = custom_filter(lambda x, b=b: x[0][b] == 0, t)\n",
        "        T_1 = custom_filter(lambda x, b=b: x[0][b] == 1, t)\n",
        "\n",
        "        # Check if both sets are non-empty\n",
        "        if len(T_0) != 0 and len(T_1) != 0:\n",
        "            difference = abs(len(T_0) - len(T_1))\n",
        "            #If new max difference\n",
        "            if difference > current_difference:\n",
        "                current_difference = difference\n",
        "                best_qubit = b\n",
        "                t_0 = T_0\n",
        "                t_1 = T_1\n",
        "\n",
        "    return best_qubit,t_0, t_1\n",
        "\n",
        "def process_subsets(t, n, dif_qubits, dif_values):\n",
        "    while len(t) > 1:\n",
        "        b, T_0, T_1 = unequal_sets(t, n)\n",
        "        dif_qubits.append(b)\n",
        "        if len(T_0) < len(T_1):\n",
        "            t = T_0\n",
        "            dif_values.append(0)\n",
        "        else:\n",
        "            t = T_1\n",
        "            dif_values.append(1)\n",
        "    return dif_qubits, dif_values, t\n",
        "\n",
        "def toggle_operations(index,n, x_x, ops1, ops2,s):\n",
        "    if x_x[0][index] != 1: #Identical code\n",
        "            ops1 += [1]\n",
        "            ops2 += [n-1-index]\n",
        "            for x in s:\n",
        "                x[0][index]= int(not x[0][index])\n",
        "\n",
        "def conditional_toggle(ops1,ops2,n,dif,b,s):\n",
        "    ops1 += [2]\n",
        "    sx = [n-1-dif,n-1-b]\n",
        "    ops2 += [sx]\n",
        "    for x in s:\n",
        "        if x[0][dif] == 1:\n",
        "            x[0][b] = int(not x[0][b])\n",
        "\n",
        "def calc_alpha_beta(x_1,x_2):\n",
        "    beta = x_1[1]\n",
        "    alpha = x_2[1]\n",
        "\n",
        "    x_2[1] = alpha+beta\n",
        "    alpha = alpha/x_2[1]\n",
        "    beta = beta/x_2[1]\n",
        "\n",
        "    return alpha, beta\n",
        "\n",
        "def calc_angle(alpha, beta):\n",
        "    return np.arctan((beta)**.5/(alpha**.5))"
      ]
    },
    {
      "cell_type": "markdown",
      "metadata": {
        "id": "lwVKE_D62991"
      },
      "source": [
        "## Quantum Functions\n",
        "This section details quantum operations essential for the algorithm:\n",
        "\n",
        "- Quantum functions corresponding to the classical ones, allowing operations on quantum states based on classical pre-processing."
      ]
    },
    {
      "cell_type": "code",
      "execution_count": 4,
      "metadata": {
        "id": "PZG-czWD2991"
      },
      "outputs": [],
      "source": [
        "#TODO implement unitary_control() using Classiq's built in control()\n",
        "@qfunc\n",
        "def unitary_control(qubit: QArray[QBit], contrl: QArray[QBit], target: QParam[int]):\n",
        "      # works by indexing to the target qbit in the abit array calling X on this qbit\n",
        "      # and also passing the contrl qbit array as a parameter for the control call\n",
        "      control(lambda: X(qubit[target]), contrl)\n",
        "\n",
        "#TODO implement y_rotation using the RY() gate\n",
        "@qfunc\n",
        "def y_rotation(theta: QParam[float], reg: QArray[QBit], target: QParam[int]):\n",
        "      # literally calling the RY function with theat as the angle and indexing to the target qbit in the reg qbit array\n",
        "      RY(theta, reg[target])\n",
        "\n",
        "@qfunc\n",
        "def my_controlled_unitary(q:QArray[QBit], w:QParam[float], ctrl:QArray[QBit], target:QParam[int]) -> None:\n",
        "      within_apply(compute=lambda: y_rotation(w,q,target), action=lambda: unitary_control(q, ctrl, target))\n",
        "\n",
        "@qfunc\n",
        "def my_unitary(q:QArray[QBit], w:QParam[float], target:QParam[int]) -> None:\n",
        "      within_apply(compute=lambda: y_rotation(w,q,target), action=lambda: X(q[target]))"
      ]
    },
    {
      "cell_type": "markdown",
      "metadata": {
        "id": "lHMWZyI22991"
      },
      "source": [
        "## Sparse State Prep\n",
        "Describes the arguments and setup for preparing a sparse quantum state:\n",
        "\n",
        "- Initial setup includes defining quantum bit requirements and preparing the environment.\n",
        "- Integration of classical functions to set up and manipulate quantum state preparation based on given sparse states.\n",
        "\n",
        "### Algorithm 1\n",
        "- **Purpose**: The primary function of `algorithm_1` is to efficiently prepare a sparse quantum state based on a given set of sparse state descriptions. It utilizes classical pre-processing to determine the optimal sequence of quantum gates.\n",
        "- **Process**:\n",
        "  - It begins by identifying the qubits and the operations that will result in the greatest simplification of the quantum state based on the input data.\n",
        "  - The algorithm iteratively processes subsets of quantum states, toggling qubits and adjusting their probabilities to converge towards the desired sparse state.\n",
        "  - Each iteration updates operation lists which are used to guide the quantum operations on the actual quantum hardware.\n",
        "  "
      ]
    },
    {
      "cell_type": "code",
      "execution_count": 5,
      "metadata": {
        "id": "WDgJDmDT2992"
      },
      "outputs": [],
      "source": [
        "def algorithm_1(s,n, ops1, ops2, ops3, ops4, ops5, n9):\n",
        "    dif_qubits = [] #Where to operate\n",
        "    dif_values = [] #What operation\n",
        "\n",
        "    #Preprocessing\n",
        "    T = s\n",
        "\n",
        "    dif_qubits, dif_values, t = process_subsets(T, n, dif_qubits, dif_values)\n",
        "\n",
        "    dif = dif_qubits.pop()\n",
        "    dif_values.pop()\n",
        "\n",
        "    x_1 = t[0]\n",
        "    t_dagger = [x for x in s if all(x[0][q] == v for q, v in zip(dif_qubits, dif_values))]\n",
        "    t_dagger.remove(x_1)\n",
        "\n",
        "\n",
        "\n",
        "    dif_qubits, dif_values, t_dagger = process_subsets(t_dagger, n, dif_qubits, dif_values)\n",
        "\n",
        "    x_2 = t_dagger[0]\n",
        "\n",
        "\n",
        "    #Storing necessary operations\n",
        "    toggle_operations(dif,n,x_1,ops1,ops2,s)\n",
        "\n",
        "    for b in range(n):\n",
        "        if b != dif and x_1[0][b] != x_2[0][b]:\n",
        "            conditional_toggle(ops1,ops3,n,dif,b,s)\n",
        "\n",
        "    for b in dif_qubits:\n",
        "        toggle_operations(b,n,x_2,ops1,ops2,s)\n",
        "\n",
        "\n",
        "    alpha, beta = calc_alpha_beta(x_1,x_2)\n",
        "\n",
        "    ops1 += [3]\n",
        "    sy = [alpha,beta, dif_qubits, dif]\n",
        "\n",
        "    if len(dif_qubits) > 0:\n",
        "        n9 += [len(dif_qubits)]\n",
        "    else:\n",
        "        sy.remove(dif_qubits)\n",
        "\n",
        "    ops4 += [sy]\n",
        "    s.remove(x_1)\n",
        "\n",
        "    if len(s) > 1:\n",
        "        algorithm_1(s,n, ops1, ops2, ops3, ops4, ops5, n9)\n",
        "    else:\n",
        "        ops1 += [4]\n",
        "        ops5 += [x_2[0]]"
      ]
    },
    {
      "cell_type": "markdown",
      "metadata": {
        "id": "pqwhBAEo2992"
      },
      "source": [
        "### Main Function Implementation\n",
        "- **Purpose**: The `main` function orchestrates the overall setup and execution of the sparse state preparation.\n",
        "- **Functionality**:\n",
        "  - It initializes the quantum environment with the necessary number of qubits based on the input state descriptions.\n",
        "  - The sparse states are first converted into a format suitable for quantum operations using `dict_to_3d_array`.\n",
        "  - The main function then invokes `algorithm_1` to find the necessary operation to prepare the sparse quantum state.\n",
        "  - After `algorithm_1` completes, the `main` function applies the quantum operations to finalize the state preparation.\n",
        "  - It is responsible for managing and applying the computed operations to the quantum system, effectively translating the classical pre-processing results into quantum manipulations."
      ]
    },
    {
      "cell_type": "code",
      "source": [
        "@qfunc\n",
        "def main(psi: Output[QArray[QBit]]):\n",
        "    # Arguments for algorithm1()\n",
        "    sparse_states = {'000': 0.25, '001': 0.5, '111': 0.25}\n",
        "    NUM_QUBITS = len(next(iter(sparse_states)))\n",
        "\n",
        "    ops1 = []  # Stores operations\n",
        "    ops2 = []\n",
        "    ops3 = []\n",
        "    ops4 = []\n",
        "    ops5 = []\n",
        "    n9 = []\n",
        "\n",
        "    # End of arguments\n",
        "    # Allocate qubits for output\n",
        "    allocate(NUM_QUBITS, psi)\n",
        "\n",
        "    sparse_states = dict_to_3d_array(sparse_states)\n",
        "    if len(sparse_states[0]) > 1:\n",
        "        # Reference https://htor.inf.ethz.ch/publications/img/quantum_dac.pdf to understand algorithm_2() and its relationship to implementation\n",
        "        algorithm_1(sparse_states, NUM_QUBITS, ops1, ops2, ops3, ops4, ops5, n9)\n",
        "\n",
        "        # Implementing quantum operations based on ops1-5\n",
        "        for i in range(len(ops1)):\n",
        "            op = ops1[i]\n",
        "            if op == 1:  # Not gate\n",
        "                qubit_index = ops2[i]\n",
        "                X(psi[qubit_index])\n",
        "            elif op == 2:  # CNOT gate\n",
        "                control_index, target_index = ops3[i]\n",
        "                CX(psi[control_index], psi[target_index])\n",
        "            elif op == 3:  # Custom gate\n",
        "                # Check if ops4 has enough values at index i\n",
        "                if i < len(ops4) and len(ops4[i]) == 3:\n",
        "                    # If not, handle it accordingly\n",
        "                    alpha, beta, qubit = ops4[i]\n",
        "                    theta = calc_angle(alpha, beta)\n",
        "                    my_unitary(q=psi, w=theta, target=qubit)\n",
        "                else:\n",
        "                    print(f\"Invalid ops4 data at index {i}\")\n",
        "                    continue\n",
        "            # Add more cases if there are additional types of gates\n",
        "\n",
        "    else:\n",
        "        for b in range(NUM_QUBITS):\n",
        "            if sparse_states[0][0][b] == 1:\n",
        "                X(psi[NUM_QUBITS - 1 - b])\n",
        "\n",
        "model = create_model(main)\n",
        "qprog = synthesize(model)\n",
        "show(qprog)"
      ],
      "metadata": {
        "colab": {
          "base_uri": "https://localhost:8080/"
        },
        "id": "NJ_05MmZ8bZB",
        "outputId": "b4bc6050-9fc9-4c88-c156-f782bf60f595"
      },
      "execution_count": 8,
      "outputs": [
        {
          "output_type": "stream",
          "name": "stdout",
          "text": [
            "Invalid ops4 data at index 2\n",
            "Opening: https://platform.classiq.io/circuit/1b911363-b29c-432f-9c8a-0bf677a5752e?version=0.39.0\n"
          ]
        }
      ]
    },
    {
      "cell_type": "code",
      "source": [
        "@qfunc\n",
        "def main(psi: Output[QArray[QBit]]):\n",
        "    # Define the probabilities dictionary for the sparse states\n",
        "    sparse_states = {'00000001': 0.25, '00010001': 0.5, '11001000': 0.25}\n",
        "\n",
        "    # Get the number of qubits based on the length of the first key\n",
        "    NUM_QUBITS = len(next(iter(sparse_states)))\n",
        "    ops1 = []  # Stores operations\n",
        "    ops2 = []\n",
        "    ops3 = []\n",
        "    ops4 = []\n",
        "    ops5 = []\n",
        "    n9 = []\n",
        "    # Allocate qubits for output\n",
        "    allocate(NUM_QUBITS, psi)\n",
        "\n",
        "    # Convert the sparse states dictionary to a 3D array representation\n",
        "    sparse_states_array = dict_to_3d_array(sparse_states)\n",
        "\n",
        "    # Check if there are multiple states in the sparse representation\n",
        "    if len(sparse_states_array[0]) > 1:\n",
        "        # Apply algorithm 1\n",
        "        algorithm_1(sparse_states_array, NUM_QUBITS, ops1, ops2, ops3, ops4, ops5, n9)\n",
        "\n",
        "        # Ensure ops1 is a list before iterating over it\n",
        "        if isinstance(ops1, list):\n",
        "            # Implement quantum operations based on ops1-5\n",
        "            for op_params in ops1:\n",
        "                if isinstance(op_params, tuple):\n",
        "                    op, *params = op_params\n",
        "                    if op == 1:  # Not gate\n",
        "                        qubit_index = params[0]\n",
        "                        X(psi[qubit_index])\n",
        "                    elif op == 2:  # CNOT gate\n",
        "                        control_index, target_index = params\n",
        "                        CX(psi[control_index], psi[target_index])\n",
        "                    elif op == 3:  # Custom gate\n",
        "                        alpha, beta, qubits = params\n",
        "                        theta = calc_angle(alpha, beta)\n",
        "                        my_unitary(q=psi, w=theta, target=qubits[0])\n",
        "                    # Add more cases if there are additional types of gates\n",
        "\n",
        "    else:\n",
        "        # If only one state is present, directly apply X gates to set the state\n",
        "        for b in range(NUM_QUBITS):\n",
        "            if sparse_states_array[0][0][b] == 1:\n",
        "                X(psi[NUM_QUBITS - 1 - b])\n",
        "\n",
        "# Create the model and synthesize the quantum program\n",
        "model = create_model(main)\n",
        "qprog = synthesize(model)\n",
        "show(qprog)"
      ],
      "metadata": {
        "colab": {
          "base_uri": "https://localhost:8080/"
        },
        "id": "REzn5WHl-Q43",
        "outputId": "fee8a096-891d-488c-d283-4aeec2a6d2e8"
      },
      "execution_count": 18,
      "outputs": [
        {
          "output_type": "stream",
          "name": "stdout",
          "text": [
            "Opening: https://platform.classiq.io/circuit/9e61ffe3-79f9-48bf-a2f4-05a87b794601?version=0.39.0\n"
          ]
        }
      ]
    },
    {
      "cell_type": "code",
      "source": [
        "@qfunc\n",
        "def main(psi: Output[QArray[QBit]]):\n",
        "    # Arguments for algorithm1()\n",
        "    sparse_states = {'000': 0.25, '001': 0.5, '111': 0.25}\n",
        "    NUM_QUBITS = len(next(iter(sparse_states)))\n",
        "\n",
        "    ops1 = []  # Stores operations\n",
        "    ops2 = []\n",
        "    ops3 = []\n",
        "    ops4 = []\n",
        "    ops5 = []\n",
        "    n9 = []\n",
        "\n",
        "    # End of arguments\n",
        "    # Allocate qubits for output\n",
        "    allocate(NUM_QUBITS, psi)\n",
        "\n",
        "    sparse_states = dict_to_3d_array(sparse_states)\n",
        "    if len(sparse_states[0]) > 1:\n",
        "        # Reference https://htor.inf.ethz.ch/publications/img/quantum_dac.pdf to understand algorithm_2() and its relationship to implementation\n",
        "        algorithm_1(sparse_states, NUM_QUBITS, ops1, ops2, ops3, ops4, ops5, n9)\n",
        "\n",
        "        # Implementing quantum operations based on ops1-5\n",
        "        for i in range(len(ops1)):\n",
        "            op = ops1[i]\n",
        "            if op == 1:  # Not gate\n",
        "                qubit_index = ops2[i]\n",
        "                X(psi[qubit_index])\n",
        "            elif op == 2:  # CNOT gate\n",
        "                control_index, target_index = ops3[i]\n",
        "                CX(psi[control_index], psi[target_index])\n",
        "            elif op == 3:  # Custom gate\n",
        "                # Check if ops4 has enough values at index i\n",
        "                if i < len(ops4) and len(ops4[i]) == 3:\n",
        "                    # If not, handle it accordingly\n",
        "                    alpha, beta, qubit = ops4[i]\n",
        "                    theta = calc_angle(alpha, beta)\n",
        "                    my_unitary(q=psi, w=theta, target=qubit)\n",
        "                else:\n",
        "                    print(f\"Invalid ops4 data at index {i}\")\n",
        "                    continue\n",
        "            # Add more cases for additional types of gates\n",
        "            elif op == 4:  # Another custom gate\n",
        "                # Handle the custom gate operation\n",
        "                pass\n",
        "            elif op == 5:  # Yet another custom gate\n",
        "                # Handle another custom gate operation\n",
        "                pass\n",
        "            elif op == 6:  # And another custom gate\n",
        "                # Handle another custom gate operation\n",
        "                pass\n",
        "            # Add more cases for additional types of gates as needed\n",
        "            # elif op == n:  # Nth custom gate\n",
        "                # Handle the Nth custom gate operation\n",
        "                # pass\n",
        "\n",
        "    else:\n",
        "        for b in range(NUM_QUBITS):\n",
        "            if sparse_states[0][0][b] == 1:\n",
        "                X(psi[NUM_QUBITS - 1 - b])\n",
        "\n",
        "model = create_model(main)\n",
        "qprog = synthesize(model)\n",
        "show(qprog)"
      ],
      "metadata": {
        "colab": {
          "base_uri": "https://localhost:8080/"
        },
        "id": "180jHsaoG-Lh",
        "outputId": "8f5e62cc-dde7-4f30-afd1-2d095be4e0fe"
      },
      "execution_count": 25,
      "outputs": [
        {
          "output_type": "stream",
          "name": "stdout",
          "text": [
            "Invalid ops4 data at index 2\n",
            "Opening: https://platform.classiq.io/circuit/d25d55e9-34d0-487c-bb08-f203a167101d?version=0.39.0\n"
          ]
        }
      ]
    },
    {
      "cell_type": "code",
      "source": [
        "@qfunc\n",
        "def main(psi: Output[QArray[QBit]]):\n",
        "    # Arguments for algorithm1()\n",
        "    sparse_states = {'000': 0.25, '001': 0.5, '111': 0.25}\n",
        "    NUM_QUBITS = len(next(iter(sparse_states)))\n",
        "\n",
        "    ops1 = []  # Stores operations\n",
        "    ops2 = []\n",
        "    ops3 = []\n",
        "    ops4 = []\n",
        "    ops5 = []\n",
        "    n9 = []\n",
        "\n",
        "    # End of arguments\n",
        "    # Allocate qubits for output\n",
        "    allocate(NUM_QUBITS, psi)\n",
        "\n",
        "    sparse_states = dict_to_3d_array(sparse_states)\n",
        "    if len(sparse_states[0]) > 1:\n",
        "        # Reference https://htor.inf.ethz.ch/publications/img/quantum_dac.pdf to understand algorithm_2() and its relationship to implementation\n",
        "        algorithm_1(sparse_states, NUM_QUBITS, ops1, ops2, ops3, ops4, ops5, n9)\n",
        "\n",
        "        # Implementing quantum operations based on ops1-5\n",
        "        for i in range(len(ops1)):\n",
        "            op = ops1[i]\n",
        "            if op == 1:  # Not gate\n",
        "                qubit_index = ops2[i]\n",
        "                X(psi[qubit_index])\n",
        "            elif op == 2:  # CNOT gate\n",
        "                control_index, target_index = ops3[i]\n",
        "                CX(psi[control_index], psi[target_index])\n",
        "            elif op == 3:  # Custom gate\n",
        "                # Check if ops4 has enough values at index i\n",
        "                if i < len(ops4) and len(ops4[i]) == 3:\n",
        "                    # If not, handle it accordingly\n",
        "                    alpha, beta, qubit = ops4[i]\n",
        "                    theta = calc_angle(alpha, beta)\n",
        "                    my_unitary(q=psi, w=theta, target=qubit)\n",
        "                else:\n",
        "                    print(f\"Invalid ops4 data at index {i}\")\n",
        "                    continue\n",
        "            elif op == 4:  # Another custom gate\n",
        "                # Check if ops5 has enough values at index i\n",
        "                if i < len(ops5) and len(ops5[i]) == 1:\n",
        "                    # If not, handle it accordingly\n",
        "                    qubit_index = ops5[i][0]\n",
        "                    H(psi[qubit_index])\n",
        "                else:\n",
        "                    print(f\"Invalid ops5 data at index {i}\")\n",
        "                    continue\n",
        "            # Add more cases for additional types of gates\n",
        "            # elif op == 5:  # Yet another custom gate\n",
        "            #     pass\n",
        "            # elif op == 6:  # And another custom gate\n",
        "            #     pass\n",
        "            # Add more cases for additional types of gates as needed\n",
        "            # elif op == n:  # Nth custom gate\n",
        "            #     pass\n",
        "\n",
        "    else:\n",
        "        for b in range(NUM_QUBITS):\n",
        "            if sparse_states[0][0][b] == 1:\n",
        "                X(psi[NUM_QUBITS - 1 - b])\n",
        "\n",
        "model = create_model(main)\n",
        "qprog = synthesize(model)\n",
        "show(qprog)"
      ],
      "metadata": {
        "colab": {
          "base_uri": "https://localhost:8080/"
        },
        "id": "2nKWkwukLvN9",
        "outputId": "5d3c49bf-7800-4f13-db34-0d1f02170640"
      },
      "execution_count": 26,
      "outputs": [
        {
          "output_type": "stream",
          "name": "stdout",
          "text": [
            "Invalid ops4 data at index 2\n",
            "Invalid ops5 data at index 3\n",
            "Opening: https://platform.classiq.io/circuit/37bb8e02-f085-4222-be2b-39bc82fa481a?version=0.39.0\n"
          ]
        }
      ]
    },
    {
      "cell_type": "code",
      "source": [
        "@qfunc\n",
        "def main(psi: Output[QArray[QBit]]):\n",
        "    # Arguments for algorithm1()\n",
        "    sparse_states = {'000': 0.25, '001': 0.5, '111': 0.25}\n",
        "    NUM_QUBITS = len(next(iter(sparse_states)))\n",
        "\n",
        "    ops1 = []  # Stores operations\n",
        "    ops2 = []\n",
        "    ops3 = []\n",
        "    ops4 = []\n",
        "    ops5 = []\n",
        "    n9 = []\n",
        "\n",
        "    # End of arguments\n",
        "    # Allocate qubits for output\n",
        "    allocate(NUM_QUBITS, psi)\n",
        "\n",
        "    sparse_states = dict_to_3d_array(sparse_states)\n",
        "    if len(sparse_states[0]) > 1:\n",
        "        # Reference https://htor.inf.ethz.ch/publications/img/quantum_dac.pdf to understand algorithm_2() and its relationship to implementation\n",
        "        algorithm_1(sparse_states, NUM_QUBITS, ops1, ops2, ops3, ops4, ops5, n9)\n",
        "\n",
        "        # Implementing quantum operations based on ops1-5\n",
        "        for i in range(len(ops1)):\n",
        "            op = ops1[i]\n",
        "            if op == 1:  # Not gate\n",
        "                if i < len(ops2):\n",
        "                    qubit_index = ops2[i]\n",
        "                    X(psi[qubit_index])\n",
        "                else:\n",
        "                    print(f\"Invalid ops2 data at index {i}\")\n",
        "                    continue\n",
        "            elif op == 2:  # CNOT gate\n",
        "                if i < len(ops3):\n",
        "                    control_index, target_index = ops3[i]\n",
        "                    CX(psi[control_index], psi[target_index])\n",
        "                else:\n",
        "                    print(f\"Invalid ops3 data at index {i}\")\n",
        "                    continue\n",
        "            elif op == 3:  # Custom gate\n",
        "                # Check if ops4 has enough values at index i\n",
        "                if i < len(ops4) and len(ops4[i]) == 3:\n",
        "                    # If not, handle it accordingly\n",
        "                    alpha, beta, qubit = ops4[i]\n",
        "                    theta = calc_angle(alpha, beta)\n",
        "                    my_unitary(q=psi, w=theta, target=qubit)\n",
        "                else:\n",
        "                    print(f\"Invalid ops4 data at index {i}\")\n",
        "                    continue\n",
        "            elif op == 4:  # Another custom gate\n",
        "                # Check if ops5 has enough values at index i\n",
        "                if i < len(ops5) and len(ops5[i]) == 1:\n",
        "                    # If not, handle it accordingly\n",
        "                    qubit_index = ops5[i][0]\n",
        "                    H(psi[qubit_index])\n",
        "                else:\n",
        "                    print(f\"Invalid ops5 data at index {i}\")\n",
        "                    continue\n",
        "            elif op == 5:  # Another custom gate\n",
        "                # Handle ops5\n",
        "                pass\n",
        "            elif op == 6:  # Another custom gate\n",
        "                # Handle ops6\n",
        "                pass\n",
        "            # Add more cases for additional types of gates as needed\n",
        "\n",
        "    else:\n",
        "        for b in range(NUM_QUBITS):\n",
        "            if sparse_states[0][0][b] == 1:\n",
        "                X(psi[NUM_QUBITS - 1 - b])\n",
        "\n",
        "model = create_model(main)\n",
        "qprog = synthesize(model)\n",
        "show(qprog)"
      ],
      "metadata": {
        "colab": {
          "base_uri": "https://localhost:8080/"
        },
        "id": "NReSezm_Mdeq",
        "outputId": "1d7042d4-16a7-4655-b91e-732992e31101"
      },
      "execution_count": 29,
      "outputs": [
        {
          "output_type": "stream",
          "name": "stdout",
          "text": [
            "Invalid ops4 data at index 2\n",
            "Invalid ops5 data at index 3\n",
            "Opening: https://platform.classiq.io/circuit/017072f9-7e73-4c4c-b519-30dbb823a932?version=0.39.0\n"
          ]
        }
      ]
    },
    {
      "cell_type": "markdown",
      "metadata": {
        "id": "liOk421w2993"
      },
      "source": [
        "## Good Luck!\n",
        "\n",
        "HINT: If you are getting inconsistent results when running code cells repeatedly, run all cells at once or restart your notebook kernel."
      ]
    }
  ],
  "metadata": {
    "kernelspec": {
      "display_name": "Python 3",
      "language": "python",
      "name": "python3"
    },
    "language_info": {
      "codemirror_mode": {
        "name": "ipython",
        "version": 3
      },
      "file_extension": ".py",
      "mimetype": "text/x-python",
      "name": "python",
      "nbconvert_exporter": "python",
      "pygments_lexer": "ipython3",
      "version": "3.11.0"
    },
    "colab": {
      "provenance": []
    }
  },
  "nbformat": 4,
  "nbformat_minor": 0
}